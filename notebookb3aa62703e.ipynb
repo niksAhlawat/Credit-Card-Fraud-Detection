{
 "cells": [
  {
   "cell_type": "code",
   "execution_count": 1,
   "id": "dd121c0c",
   "metadata": {
    "_cell_guid": "b1076dfc-b9ad-4769-8c92-a6c4dae69d19",
    "_uuid": "8f2839f25d086af736a60e9eeb907d3b93b6e0e5",
    "execution": {
     "iopub.execute_input": "2022-02-09T10:16:27.662280Z",
     "iopub.status.busy": "2022-02-09T10:16:27.656881Z",
     "iopub.status.idle": "2022-02-09T10:16:29.546416Z",
     "shell.execute_reply": "2022-02-09T10:16:29.545791Z",
     "shell.execute_reply.started": "2022-02-09T09:53:11.719464Z"
    },
    "papermill": {
     "duration": 1.927824,
     "end_time": "2022-02-09T10:16:29.546601",
     "exception": false,
     "start_time": "2022-02-09T10:16:27.618777",
     "status": "completed"
    },
    "tags": []
   },
   "outputs": [
    {
     "data": {
      "text/plain": [
       "<Figure size 432x216 with 0 Axes>"
      ]
     },
     "metadata": {},
     "output_type": "display_data"
    }
   ],
   "source": [
    "#Packages related to general operating system & warnings\n",
    "import os \n",
    "import warnings\n",
    "warnings.filterwarnings('ignore')\n",
    "#Packages related to data importing, manipulation, exploratory data #analysis, data understanding\n",
    "import numpy as np\n",
    "import pandas as pd\n",
    "from pandas import Series, DataFrame\n",
    "from termcolor import colored as cl # text customization\n",
    "#Packages related to data visualizaiton\n",
    "import seaborn as sns\n",
    "import matplotlib.pyplot as plt\n",
    "%matplotlib inline\n",
    "#Setting plot sizes and type of plot\n",
    "plt.rc(\"font\", size=14)\n",
    "plt.rcParams['axes.grid'] = True\n",
    "plt.figure(figsize=(6,3))\n",
    "plt.gray()\n",
    "from matplotlib.backends.backend_pdf import PdfPages\n",
    "from sklearn.model_selection import train_test_split, GridSearchCV\n",
    "from sklearn import metrics\n",
    "from sklearn.impute import MissingIndicator, SimpleImputer\n",
    "from sklearn.preprocessing import  PolynomialFeatures, KBinsDiscretizer, FunctionTransformer\n",
    "from sklearn.preprocessing import StandardScaler, MinMaxScaler, MaxAbsScaler\n",
    "from sklearn.preprocessing import LabelEncoder, OneHotEncoder, LabelBinarizer, OrdinalEncoder\n",
    "import statsmodels.formula.api as smf\n",
    "import statsmodels.tsa as tsa\n",
    "from sklearn.linear_model import LogisticRegression, LinearRegression, ElasticNet, Lasso, Ridge\n",
    "from sklearn.neighbors import KNeighborsClassifier, KNeighborsRegressor\n",
    "from sklearn.tree import DecisionTreeClassifier, DecisionTreeRegressor, export_graphviz, export\n",
    "from sklearn.ensemble import BaggingClassifier, BaggingRegressor,RandomForestClassifier,RandomForestRegressor\n",
    "from sklearn.ensemble import GradientBoostingClassifier,GradientBoostingRegressor, AdaBoostClassifier, AdaBoostRegressor \n",
    "from sklearn.svm import LinearSVC, LinearSVR, SVC, SVR\n",
    "from xgboost import XGBClassifier\n",
    "from sklearn.metrics import f1_score\n",
    "from sklearn.metrics import accuracy_score\n",
    "from sklearn.metrics import confusion_matrix"
   ]
  },
  {
   "cell_type": "markdown",
   "id": "59c4a429",
   "metadata": {
    "papermill": {
     "duration": 0.033147,
     "end_time": "2022-02-09T10:16:29.614604",
     "exception": false,
     "start_time": "2022-02-09T10:16:29.581457",
     "status": "completed"
    },
    "tags": []
   },
   "source": [
    "**Importing Dataset**"
   ]
  },
  {
   "cell_type": "code",
   "execution_count": 2,
   "id": "2f53c07c",
   "metadata": {
    "execution": {
     "iopub.execute_input": "2022-02-09T10:16:29.688550Z",
     "iopub.status.busy": "2022-02-09T10:16:29.687653Z",
     "iopub.status.idle": "2022-02-09T10:16:33.857018Z",
     "shell.execute_reply": "2022-02-09T10:16:33.855674Z",
     "shell.execute_reply.started": "2022-02-09T09:53:14.110090Z"
    },
    "papermill": {
     "duration": 4.209337,
     "end_time": "2022-02-09T10:16:33.857282",
     "exception": false,
     "start_time": "2022-02-09T10:16:29.647945",
     "status": "completed"
    },
    "tags": []
   },
   "outputs": [
    {
     "name": "stdout",
     "output_type": "stream",
     "text": [
      "<class 'pandas.core.frame.DataFrame'>\n",
      "RangeIndex: 284807 entries, 0 to 284806\n",
      "Data columns (total 31 columns):\n",
      " #   Column  Non-Null Count   Dtype  \n",
      "---  ------  --------------   -----  \n",
      " 0   Time    284807 non-null  float64\n",
      " 1   V1      284807 non-null  float64\n",
      " 2   V2      284807 non-null  float64\n",
      " 3   V3      284807 non-null  float64\n",
      " 4   V4      284807 non-null  float64\n",
      " 5   V5      284807 non-null  float64\n",
      " 6   V6      284807 non-null  float64\n",
      " 7   V7      284807 non-null  float64\n",
      " 8   V8      284807 non-null  float64\n",
      " 9   V9      284807 non-null  float64\n",
      " 10  V10     284807 non-null  float64\n",
      " 11  V11     284807 non-null  float64\n",
      " 12  V12     284807 non-null  float64\n",
      " 13  V13     284807 non-null  float64\n",
      " 14  V14     284807 non-null  float64\n",
      " 15  V15     284807 non-null  float64\n",
      " 16  V16     284807 non-null  float64\n",
      " 17  V17     284807 non-null  float64\n",
      " 18  V18     284807 non-null  float64\n",
      " 19  V19     284807 non-null  float64\n",
      " 20  V20     284807 non-null  float64\n",
      " 21  V21     284807 non-null  float64\n",
      " 22  V22     284807 non-null  float64\n",
      " 23  V23     284807 non-null  float64\n",
      " 24  V24     284807 non-null  float64\n",
      " 25  V25     284807 non-null  float64\n",
      " 26  V26     284807 non-null  float64\n",
      " 27  V27     284807 non-null  float64\n",
      " 28  V28     284807 non-null  float64\n",
      " 29  Amount  284807 non-null  float64\n",
      " 30  Class   284807 non-null  int64  \n",
      "dtypes: float64(30), int64(1)\n",
      "memory usage: 67.4 MB\n"
     ]
    }
   ],
   "source": [
    "data=pd.read_csv(\"../input/creditcardcsv/creditcard.csv\")\n",
    "data.info()"
   ]
  },
  {
   "cell_type": "code",
   "execution_count": 3,
   "id": "ce3d3dc1",
   "metadata": {
    "execution": {
     "iopub.execute_input": "2022-02-09T10:16:33.935050Z",
     "iopub.status.busy": "2022-02-09T10:16:33.934127Z",
     "iopub.status.idle": "2022-02-09T10:16:33.937298Z",
     "shell.execute_reply": "2022-02-09T10:16:33.937845Z",
     "shell.execute_reply.started": "2022-02-09T09:53:19.765151Z"
    },
    "papermill": {
     "duration": 0.044696,
     "end_time": "2022-02-09T10:16:33.938019",
     "exception": false,
     "start_time": "2022-02-09T10:16:33.893323",
     "status": "completed"
    },
    "tags": []
   },
   "outputs": [
    {
     "data": {
      "text/plain": [
       "(284807, 31)"
      ]
     },
     "execution_count": 3,
     "metadata": {},
     "output_type": "execute_result"
    }
   ],
   "source": [
    "data.shape"
   ]
  },
  {
   "cell_type": "markdown",
   "id": "f490ba56",
   "metadata": {
    "papermill": {
     "duration": 0.034698,
     "end_time": "2022-02-09T10:16:34.008227",
     "exception": false,
     "start_time": "2022-02-09T10:16:33.973529",
     "status": "completed"
    },
    "tags": []
   },
   "source": [
    "Let’s check the transaction distribution."
   ]
  },
  {
   "cell_type": "code",
   "execution_count": 4,
   "id": "6be84747",
   "metadata": {
    "execution": {
     "iopub.execute_input": "2022-02-09T10:16:34.080810Z",
     "iopub.status.busy": "2022-02-09T10:16:34.080152Z",
     "iopub.status.idle": "2022-02-09T10:16:34.134208Z",
     "shell.execute_reply": "2022-02-09T10:16:34.133550Z",
     "shell.execute_reply.started": "2022-02-09T09:53:19.775004Z"
    },
    "papermill": {
     "duration": 0.09164,
     "end_time": "2022-02-09T10:16:34.134358",
     "exception": false,
     "start_time": "2022-02-09T10:16:34.042718",
     "status": "completed"
    },
    "tags": []
   },
   "outputs": [
    {
     "name": "stdout",
     "output_type": "stream",
     "text": [
      "\u001b[1mTotal number of Transactions are: 284807\u001b[0m\n",
      "\u001b[1mNumber of Normal Transactions are: 284315\u001b[0m\n",
      "\u001b[1mNumber of fraudulent Transactions are: 492\u001b[0m\n",
      "\u001b[1mPercentage of fraud Transactions is: 0.17\u001b[0m\n"
     ]
    }
   ],
   "source": [
    "Total_transactions = len(data)\n",
    "normal = len(data[data.Class == 0])\n",
    "fraudulent = len(data[data.Class == 1])\n",
    "fraud_percentage = round(fraudulent/normal*100, 2)\n",
    "print(cl('Total number of Transactions are: {}'.format(Total_transactions), attrs = ['bold']))\n",
    "print(cl('Number of Normal Transactions are: {}'.format(normal), attrs = ['bold']))\n",
    "print(cl('Number of fraudulent Transactions are: {}'.format(fraudulent), attrs = ['bold']))\n",
    "print(cl('Percentage of fraud Transactions is: {}'.format(fraud_percentage), attrs = ['bold']))"
   ]
  },
  {
   "cell_type": "markdown",
   "id": "2587e68e",
   "metadata": {
    "papermill": {
     "duration": 0.034424,
     "end_time": "2022-02-09T10:16:34.203867",
     "exception": false,
     "start_time": "2022-02-09T10:16:34.169443",
     "status": "completed"
    },
    "tags": []
   },
   "source": [
    "Only 0.17% of transactions are fraudulent.\n",
    "\n",
    "We have observed in our data 28 features are transformed versions of PCA but the Amount is the original one. And, while checking the minimum and maximum is in the amount — we found the difference is huge that can deviate our result."
   ]
  },
  {
   "cell_type": "code",
   "execution_count": 5,
   "id": "f82b8861",
   "metadata": {
    "execution": {
     "iopub.execute_input": "2022-02-09T10:16:34.356929Z",
     "iopub.status.busy": "2022-02-09T10:16:34.355932Z",
     "iopub.status.idle": "2022-02-09T10:16:34.359757Z",
     "shell.execute_reply": "2022-02-09T10:16:34.360238Z",
     "shell.execute_reply.started": "2022-02-09T09:53:19.886790Z"
    },
    "papermill": {
     "duration": 0.121752,
     "end_time": "2022-02-09T10:16:34.360415",
     "exception": false,
     "start_time": "2022-02-09T10:16:34.238663",
     "status": "completed"
    },
    "tags": []
   },
   "outputs": [
    {
     "data": {
      "text/plain": [
       "(0.0, 25691.16)"
      ]
     },
     "execution_count": 5,
     "metadata": {},
     "output_type": "execute_result"
    }
   ],
   "source": [
    "min(data.Amount), max(data.Amount)"
   ]
  },
  {
   "cell_type": "markdown",
   "id": "1bd7112b",
   "metadata": {
    "papermill": {
     "duration": 0.034676,
     "end_time": "2022-02-09T10:16:34.430152",
     "exception": false,
     "start_time": "2022-02-09T10:16:34.395476",
     "status": "completed"
    },
    "tags": []
   },
   "source": [
    "Using Standard Scaler to scale our Amount variable,"
   ]
  },
  {
   "cell_type": "code",
   "execution_count": 6,
   "id": "51e97c90",
   "metadata": {
    "execution": {
     "iopub.execute_input": "2022-02-09T10:16:34.503444Z",
     "iopub.status.busy": "2022-02-09T10:16:34.502824Z",
     "iopub.status.idle": "2022-02-09T10:16:34.515629Z",
     "shell.execute_reply": "2022-02-09T10:16:34.516087Z",
     "shell.execute_reply.started": "2022-02-09T09:53:19.976528Z"
    },
    "papermill": {
     "duration": 0.05134,
     "end_time": "2022-02-09T10:16:34.516260",
     "exception": false,
     "start_time": "2022-02-09T10:16:34.464920",
     "status": "completed"
    },
    "tags": []
   },
   "outputs": [
    {
     "name": "stdout",
     "output_type": "stream",
     "text": [
      "0         0.244964\n",
      "1        -0.342475\n",
      "2         1.160686\n",
      "3         0.140534\n",
      "4        -0.073403\n",
      "            ...   \n",
      "284802   -0.350151\n",
      "284803   -0.254117\n",
      "284804   -0.081839\n",
      "284805   -0.313249\n",
      "284806    0.514355\n",
      "Name: Amount, Length: 284807, dtype: float64\n"
     ]
    }
   ],
   "source": [
    "sc = StandardScaler()\n",
    "amount = data['Amount'].values\n",
    "data['Amount'] = sc.fit_transform(amount.reshape(-1, 1))\n",
    "print(data.Amount)"
   ]
  },
  {
   "cell_type": "code",
   "execution_count": 7,
   "id": "34f86487",
   "metadata": {
    "execution": {
     "iopub.execute_input": "2022-02-09T10:16:34.618368Z",
     "iopub.status.busy": "2022-02-09T10:16:34.617276Z",
     "iopub.status.idle": "2022-02-09T10:16:34.619177Z",
     "shell.execute_reply": "2022-02-09T10:16:34.619730Z",
     "shell.execute_reply.started": "2022-02-09T09:53:20.005388Z"
    },
    "papermill": {
     "duration": 0.068146,
     "end_time": "2022-02-09T10:16:34.619912",
     "exception": false,
     "start_time": "2022-02-09T10:16:34.551766",
     "status": "completed"
    },
    "tags": []
   },
   "outputs": [],
   "source": [
    "data.drop(['Time'], axis=1, inplace=True)"
   ]
  },
  {
   "cell_type": "markdown",
   "id": "c23ac048",
   "metadata": {
    "papermill": {
     "duration": 0.035236,
     "end_time": "2022-02-09T10:16:34.690283",
     "exception": false,
     "start_time": "2022-02-09T10:16:34.655047",
     "status": "completed"
    },
    "tags": []
   },
   "source": [
    "Removing any duplicates and observing the data."
   ]
  },
  {
   "cell_type": "code",
   "execution_count": 8,
   "id": "ecb8b606",
   "metadata": {
    "execution": {
     "iopub.execute_input": "2022-02-09T10:16:34.765431Z",
     "iopub.status.busy": "2022-02-09T10:16:34.764502Z",
     "iopub.status.idle": "2022-02-09T10:16:35.697619Z",
     "shell.execute_reply": "2022-02-09T10:16:35.697094Z",
     "shell.execute_reply.started": "2022-02-09T09:53:20.042103Z"
    },
    "papermill": {
     "duration": 0.971717,
     "end_time": "2022-02-09T10:16:35.697767",
     "exception": false,
     "start_time": "2022-02-09T10:16:34.726050",
     "status": "completed"
    },
    "tags": []
   },
   "outputs": [
    {
     "data": {
      "text/plain": [
       "(275663, 30)"
      ]
     },
     "execution_count": 8,
     "metadata": {},
     "output_type": "execute_result"
    }
   ],
   "source": [
    "data.drop_duplicates(inplace=True)\n",
    "data.shape"
   ]
  },
  {
   "cell_type": "markdown",
   "id": "b85898f5",
   "metadata": {
    "papermill": {
     "duration": 0.03517,
     "end_time": "2022-02-09T10:16:35.768817",
     "exception": false,
     "start_time": "2022-02-09T10:16:35.733647",
     "status": "completed"
    },
    "tags": []
   },
   "source": [
    "**Train & Test Split**\n",
    "\n",
    "We now have properly scaled data with no duplicate, no missing. Let’s now split it for our model building.\n",
    "Before splitting train & test — we need to define dependent and independent variables. The dependent variable is also known as X and the independent variable is known as y."
   ]
  },
  {
   "cell_type": "code",
   "execution_count": 9,
   "id": "e87b4e59",
   "metadata": {
    "execution": {
     "iopub.execute_input": "2022-02-09T10:16:35.843972Z",
     "iopub.status.busy": "2022-02-09T10:16:35.843309Z",
     "iopub.status.idle": "2022-02-09T10:16:35.997307Z",
     "shell.execute_reply": "2022-02-09T10:16:35.996768Z",
     "shell.execute_reply.started": "2022-02-09T09:53:21.436334Z"
    },
    "papermill": {
     "duration": 0.192566,
     "end_time": "2022-02-09T10:16:35.997490",
     "exception": false,
     "start_time": "2022-02-09T10:16:35.804924",
     "status": "completed"
    },
    "tags": []
   },
   "outputs": [],
   "source": [
    "X = data.drop('Class', axis = 1).values\n",
    "y = data['Class'].values\n",
    "\n",
    "#Now Spliting train and test data\n",
    "X_train, X_test, y_train, y_test = train_test_split(X, y, test_size = 0.25, random_state = 1)"
   ]
  },
  {
   "cell_type": "markdown",
   "id": "ecdb08ab",
   "metadata": {
    "papermill": {
     "duration": 0.036227,
     "end_time": "2022-02-09T10:16:36.069966",
     "exception": false,
     "start_time": "2022-02-09T10:16:36.033739",
     "status": "completed"
    },
    "tags": []
   },
   "source": [
    "**MODEL BUILDING**\n",
    "\n",
    "\n",
    "**1. Decision Tree Model**"
   ]
  },
  {
   "cell_type": "code",
   "execution_count": 10,
   "id": "634eeb6e",
   "metadata": {
    "execution": {
     "iopub.execute_input": "2022-02-09T10:16:36.148133Z",
     "iopub.status.busy": "2022-02-09T10:16:36.147512Z",
     "iopub.status.idle": "2022-02-09T10:16:42.375132Z",
     "shell.execute_reply": "2022-02-09T10:16:42.374439Z",
     "shell.execute_reply.started": "2022-02-09T09:53:21.690553Z"
    },
    "papermill": {
     "duration": 6.268765,
     "end_time": "2022-02-09T10:16:42.375267",
     "exception": false,
     "start_time": "2022-02-09T10:16:36.106502",
     "status": "completed"
    },
    "tags": []
   },
   "outputs": [
    {
     "name": "stdout",
     "output_type": "stream",
     "text": [
      "Accuracy score of the Decision Tree model is 0.9991583957281328\n"
     ]
    }
   ],
   "source": [
    "DT = DecisionTreeClassifier(max_depth = 4, criterion = 'entropy')\n",
    "DT.fit(X_train, y_train)\n",
    "tree_yhat = DT.predict(X_test)\n",
    "\n",
    "# Check accuracy of our decision tree model\n",
    "print('Accuracy score of the Decision Tree model is {}'.format(accuracy_score(y_test, tree_yhat)))"
   ]
  },
  {
   "cell_type": "markdown",
   "id": "1eb9e167",
   "metadata": {
    "papermill": {
     "duration": 0.035813,
     "end_time": "2022-02-09T10:16:42.447148",
     "exception": false,
     "start_time": "2022-02-09T10:16:42.411335",
     "status": "completed"
    },
    "tags": []
   },
   "source": [
    "Checking F1-Score for the decision tree model."
   ]
  },
  {
   "cell_type": "code",
   "execution_count": 11,
   "id": "742df4df",
   "metadata": {
    "execution": {
     "iopub.execute_input": "2022-02-09T10:16:42.523809Z",
     "iopub.status.busy": "2022-02-09T10:16:42.521966Z",
     "iopub.status.idle": "2022-02-09T10:16:42.545350Z",
     "shell.execute_reply": "2022-02-09T10:16:42.544358Z",
     "shell.execute_reply.started": "2022-02-09T09:53:29.244934Z"
    },
    "papermill": {
     "duration": 0.062335,
     "end_time": "2022-02-09T10:16:42.545589",
     "exception": false,
     "start_time": "2022-02-09T10:16:42.483254",
     "status": "completed"
    },
    "tags": []
   },
   "outputs": [
    {
     "name": "stdout",
     "output_type": "stream",
     "text": [
      "F1 score of the Decision Tree model is 0.7521367521367521\n"
     ]
    }
   ],
   "source": [
    "print('F1 score of the Decision Tree model is {}'.format(f1_score(y_test, tree_yhat)))"
   ]
  },
  {
   "cell_type": "markdown",
   "id": "75236421",
   "metadata": {
    "papermill": {
     "duration": 0.03591,
     "end_time": "2022-02-09T10:16:42.619089",
     "exception": false,
     "start_time": "2022-02-09T10:16:42.583179",
     "status": "completed"
    },
    "tags": []
   },
   "source": [
    "Checking the confusion matrix:"
   ]
  },
  {
   "cell_type": "code",
   "execution_count": 12,
   "id": "42ebf0d4",
   "metadata": {
    "execution": {
     "iopub.execute_input": "2022-02-09T10:16:42.695626Z",
     "iopub.status.busy": "2022-02-09T10:16:42.694968Z",
     "iopub.status.idle": "2022-02-09T10:16:42.770876Z",
     "shell.execute_reply": "2022-02-09T10:16:42.770289Z",
     "shell.execute_reply.started": "2022-02-09T09:53:29.272506Z"
    },
    "papermill": {
     "duration": 0.115134,
     "end_time": "2022-02-09T10:16:42.771013",
     "exception": false,
     "start_time": "2022-02-09T10:16:42.655879",
     "status": "completed"
    },
    "tags": []
   },
   "outputs": [
    {
     "data": {
      "text/plain": [
       "array([[68770,    18],\n",
       "       [   40,    88]])"
      ]
     },
     "execution_count": 12,
     "metadata": {},
     "output_type": "execute_result"
    }
   ],
   "source": [
    "confusion_matrix(y_test, tree_yhat, labels = [0, 1])"
   ]
  },
  {
   "cell_type": "markdown",
   "id": "baa038f2",
   "metadata": {
    "papermill": {
     "duration": 0.03619,
     "end_time": "2022-02-09T10:16:42.844059",
     "exception": false,
     "start_time": "2022-02-09T10:16:42.807869",
     "status": "completed"
    },
    "tags": []
   },
   "source": [
    "**2. K-Nearest Neighbors**"
   ]
  },
  {
   "cell_type": "code",
   "execution_count": 13,
   "id": "0737c8ac",
   "metadata": {
    "execution": {
     "iopub.execute_input": "2022-02-09T10:16:42.920537Z",
     "iopub.status.busy": "2022-02-09T10:16:42.919878Z",
     "iopub.status.idle": "2022-02-09T10:21:02.342420Z",
     "shell.execute_reply": "2022-02-09T10:21:02.341857Z",
     "shell.execute_reply.started": "2022-02-09T09:53:29.356657Z"
    },
    "papermill": {
     "duration": 259.461952,
     "end_time": "2022-02-09T10:21:02.342600",
     "exception": false,
     "start_time": "2022-02-09T10:16:42.880648",
     "status": "completed"
    },
    "tags": []
   },
   "outputs": [],
   "source": [
    "n = 7\n",
    "KNN = KNeighborsClassifier(n_neighbors = n)\n",
    "KNN.fit(X_train, y_train)\n",
    "knn_yhat = KNN.predict(X_test)"
   ]
  },
  {
   "cell_type": "markdown",
   "id": "9a6e9354",
   "metadata": {
    "papermill": {
     "duration": 0.036853,
     "end_time": "2022-02-09T10:21:02.416701",
     "exception": false,
     "start_time": "2022-02-09T10:21:02.379848",
     "status": "completed"
    },
    "tags": []
   },
   "source": [
    "accuracy of our K-Nearest Neighbors model."
   ]
  },
  {
   "cell_type": "code",
   "execution_count": 14,
   "id": "2a33b49e",
   "metadata": {
    "execution": {
     "iopub.execute_input": "2022-02-09T10:21:02.496882Z",
     "iopub.status.busy": "2022-02-09T10:21:02.495729Z",
     "iopub.status.idle": "2022-02-09T10:21:02.503528Z",
     "shell.execute_reply": "2022-02-09T10:21:02.504086Z",
     "shell.execute_reply.started": "2022-02-09T09:58:39.198694Z"
    },
    "papermill": {
     "duration": 0.051158,
     "end_time": "2022-02-09T10:21:02.504255",
     "exception": false,
     "start_time": "2022-02-09T10:21:02.453097",
     "status": "completed"
    },
    "tags": []
   },
   "outputs": [
    {
     "name": "stdout",
     "output_type": "stream",
     "text": [
      "Accuracy score of the K-Nearest Neighbors model is 0.999288989494457\n"
     ]
    }
   ],
   "source": [
    "print('Accuracy score of the K-Nearest Neighbors model is {}'.format(accuracy_score(y_test, knn_yhat)))"
   ]
  },
  {
   "cell_type": "markdown",
   "id": "e8406797",
   "metadata": {
    "papermill": {
     "duration": 0.036664,
     "end_time": "2022-02-09T10:21:02.578087",
     "exception": false,
     "start_time": "2022-02-09T10:21:02.541423",
     "status": "completed"
    },
    "tags": []
   },
   "source": [
    "Checking F1-Score for the K-Nearest Neighbors model."
   ]
  },
  {
   "cell_type": "code",
   "execution_count": 15,
   "id": "66ef904b",
   "metadata": {
    "execution": {
     "iopub.execute_input": "2022-02-09T10:21:02.654714Z",
     "iopub.status.busy": "2022-02-09T10:21:02.654069Z",
     "iopub.status.idle": "2022-02-09T10:21:02.675641Z",
     "shell.execute_reply": "2022-02-09T10:21:02.675086Z",
     "shell.execute_reply.started": "2022-02-09T09:58:39.211486Z"
    },
    "papermill": {
     "duration": 0.060853,
     "end_time": "2022-02-09T10:21:02.675791",
     "exception": false,
     "start_time": "2022-02-09T10:21:02.614938",
     "status": "completed"
    },
    "tags": []
   },
   "outputs": [
    {
     "name": "stdout",
     "output_type": "stream",
     "text": [
      "F1 score of the K-Nearest Neighbors model is 0.7949790794979079\n"
     ]
    }
   ],
   "source": [
    "print('F1 score of the K-Nearest Neighbors model is {}'.format(f1_score(y_test, knn_yhat)))"
   ]
  },
  {
   "cell_type": "markdown",
   "id": "a5e4674d",
   "metadata": {
    "papermill": {
     "duration": 0.037294,
     "end_time": "2022-02-09T10:21:02.750795",
     "exception": false,
     "start_time": "2022-02-09T10:21:02.713501",
     "status": "completed"
    },
    "tags": []
   },
   "source": [
    "**3. Logistic Regression**"
   ]
  },
  {
   "cell_type": "code",
   "execution_count": 16,
   "id": "0eaf2f7b",
   "metadata": {
    "execution": {
     "iopub.execute_input": "2022-02-09T10:21:02.833537Z",
     "iopub.status.busy": "2022-02-09T10:21:02.832214Z",
     "iopub.status.idle": "2022-02-09T10:21:05.176821Z",
     "shell.execute_reply": "2022-02-09T10:21:05.177728Z",
     "shell.execute_reply.started": "2022-02-09T09:58:39.245721Z"
    },
    "papermill": {
     "duration": 2.389385,
     "end_time": "2022-02-09T10:21:05.178009",
     "exception": false,
     "start_time": "2022-02-09T10:21:02.788624",
     "status": "completed"
    },
    "tags": []
   },
   "outputs": [],
   "source": [
    "lr = LogisticRegression()\n",
    "lr.fit(X_train, y_train)\n",
    "lr_yhat = lr.predict(X_test)"
   ]
  },
  {
   "cell_type": "markdown",
   "id": "b560bdf0",
   "metadata": {
    "papermill": {
     "duration": 0.058536,
     "end_time": "2022-02-09T10:21:05.304175",
     "exception": false,
     "start_time": "2022-02-09T10:21:05.245639",
     "status": "completed"
    },
    "tags": []
   },
   "source": [
    "Check the accuracy of our Logistic Regression model."
   ]
  },
  {
   "cell_type": "code",
   "execution_count": 17,
   "id": "b35949a0",
   "metadata": {
    "execution": {
     "iopub.execute_input": "2022-02-09T10:21:05.385275Z",
     "iopub.status.busy": "2022-02-09T10:21:05.384588Z",
     "iopub.status.idle": "2022-02-09T10:21:05.392290Z",
     "shell.execute_reply": "2022-02-09T10:21:05.392793Z",
     "shell.execute_reply.started": "2022-02-09T09:58:42.013294Z"
    },
    "papermill": {
     "duration": 0.05106,
     "end_time": "2022-02-09T10:21:05.392986",
     "exception": false,
     "start_time": "2022-02-09T10:21:05.341926",
     "status": "completed"
    },
    "tags": []
   },
   "outputs": [
    {
     "name": "stdout",
     "output_type": "stream",
     "text": [
      "Accuracy score of the Logistic Regression model is 0.9989552498694062\n"
     ]
    }
   ],
   "source": [
    "print('Accuracy score of the Logistic Regression model is {}'.format(accuracy_score(y_test, lr_yhat)))"
   ]
  },
  {
   "cell_type": "markdown",
   "id": "0ba701ee",
   "metadata": {
    "papermill": {
     "duration": 0.037154,
     "end_time": "2022-02-09T10:21:05.467773",
     "exception": false,
     "start_time": "2022-02-09T10:21:05.430619",
     "status": "completed"
    },
    "tags": []
   },
   "source": [
    "Checking F1-Score for the Logistic Regression model."
   ]
  },
  {
   "cell_type": "code",
   "execution_count": 18,
   "id": "10ae54e7",
   "metadata": {
    "execution": {
     "iopub.execute_input": "2022-02-09T10:21:05.546991Z",
     "iopub.status.busy": "2022-02-09T10:21:05.545961Z",
     "iopub.status.idle": "2022-02-09T10:21:05.567249Z",
     "shell.execute_reply": "2022-02-09T10:21:05.567702Z",
     "shell.execute_reply.started": "2022-02-09T09:58:42.033926Z"
    },
    "papermill": {
     "duration": 0.062097,
     "end_time": "2022-02-09T10:21:05.567874",
     "exception": false,
     "start_time": "2022-02-09T10:21:05.505777",
     "status": "completed"
    },
    "tags": []
   },
   "outputs": [
    {
     "name": "stdout",
     "output_type": "stream",
     "text": [
      "F1 score of the Logistic Regression model is 0.6666666666666666\n"
     ]
    }
   ],
   "source": [
    "print('F1 score of the Logistic Regression model is {}'.format(f1_score(y_test, lr_yhat)))"
   ]
  },
  {
   "cell_type": "markdown",
   "id": "83bca8aa",
   "metadata": {
    "papermill": {
     "duration": 0.037339,
     "end_time": "2022-02-09T10:21:05.642997",
     "exception": false,
     "start_time": "2022-02-09T10:21:05.605658",
     "status": "completed"
    },
    "tags": []
   },
   "source": [
    "**4. Support Vector Machines**"
   ]
  },
  {
   "cell_type": "code",
   "execution_count": 19,
   "id": "f3d833ba",
   "metadata": {
    "execution": {
     "iopub.execute_input": "2022-02-09T10:21:05.722395Z",
     "iopub.status.busy": "2022-02-09T10:21:05.721399Z",
     "iopub.status.idle": "2022-02-09T10:24:09.787089Z",
     "shell.execute_reply": "2022-02-09T10:24:09.787608Z",
     "shell.execute_reply.started": "2022-02-09T09:58:42.084275Z"
    },
    "papermill": {
     "duration": 184.106928,
     "end_time": "2022-02-09T10:24:09.787804",
     "exception": false,
     "start_time": "2022-02-09T10:21:05.680876",
     "status": "completed"
    },
    "tags": []
   },
   "outputs": [],
   "source": [
    "svm = SVC()\n",
    "svm.fit(X_train, y_train)\n",
    "svm_yhat = svm.predict(X_test)"
   ]
  },
  {
   "cell_type": "markdown",
   "id": "17df28d3",
   "metadata": {
    "papermill": {
     "duration": 0.037895,
     "end_time": "2022-02-09T10:24:09.864860",
     "exception": false,
     "start_time": "2022-02-09T10:24:09.826965",
     "status": "completed"
    },
    "tags": []
   },
   "source": [
    "Check the accuracy of our Support Vector Machines model."
   ]
  },
  {
   "cell_type": "code",
   "execution_count": 20,
   "id": "036be824",
   "metadata": {
    "execution": {
     "iopub.execute_input": "2022-02-09T10:24:09.946308Z",
     "iopub.status.busy": "2022-02-09T10:24:09.945661Z",
     "iopub.status.idle": "2022-02-09T10:24:09.956613Z",
     "shell.execute_reply": "2022-02-09T10:24:09.955886Z",
     "shell.execute_reply.started": "2022-02-09T10:02:22.105178Z"
    },
    "papermill": {
     "duration": 0.053315,
     "end_time": "2022-02-09T10:24:09.956801",
     "exception": false,
     "start_time": "2022-02-09T10:24:09.903486",
     "status": "completed"
    },
    "tags": []
   },
   "outputs": [
    {
     "name": "stdout",
     "output_type": "stream",
     "text": [
      "Accuracy score of the Support Vector Machines model is 0.999318010331418\n"
     ]
    }
   ],
   "source": [
    "print('Accuracy score of the Support Vector Machines model is {}'.format(accuracy_score(y_test, svm_yhat)))"
   ]
  },
  {
   "cell_type": "markdown",
   "id": "15de8f96",
   "metadata": {
    "papermill": {
     "duration": 0.038129,
     "end_time": "2022-02-09T10:24:10.033989",
     "exception": false,
     "start_time": "2022-02-09T10:24:09.995860",
     "status": "completed"
    },
    "tags": []
   },
   "source": [
    "Checking F1-Score for the Support Vector Machines model."
   ]
  },
  {
   "cell_type": "code",
   "execution_count": 21,
   "id": "09b07eea",
   "metadata": {
    "execution": {
     "iopub.execute_input": "2022-02-09T10:24:10.115082Z",
     "iopub.status.busy": "2022-02-09T10:24:10.114140Z",
     "iopub.status.idle": "2022-02-09T10:24:10.135983Z",
     "shell.execute_reply": "2022-02-09T10:24:10.136612Z",
     "shell.execute_reply.started": "2022-02-09T10:02:22.118360Z"
    },
    "papermill": {
     "duration": 0.063751,
     "end_time": "2022-02-09T10:24:10.136794",
     "exception": false,
     "start_time": "2022-02-09T10:24:10.073043",
     "status": "completed"
    },
    "tags": []
   },
   "outputs": [
    {
     "name": "stdout",
     "output_type": "stream",
     "text": [
      "F1 score of the Support Vector Machines model is 0.7813953488372093\n"
     ]
    }
   ],
   "source": [
    "print('F1 score of the Support Vector Machines model is {}'.format(f1_score(y_test, svm_yhat)))"
   ]
  },
  {
   "cell_type": "markdown",
   "id": "cc366e9e",
   "metadata": {
    "papermill": {
     "duration": 0.03804,
     "end_time": "2022-02-09T10:24:10.213151",
     "exception": false,
     "start_time": "2022-02-09T10:24:10.175111",
     "status": "completed"
    },
    "tags": []
   },
   "source": [
    "**5. Random Forest**"
   ]
  },
  {
   "cell_type": "code",
   "execution_count": 22,
   "id": "f573c323",
   "metadata": {
    "execution": {
     "iopub.execute_input": "2022-02-09T10:24:10.294068Z",
     "iopub.status.busy": "2022-02-09T10:24:10.293075Z",
     "iopub.status.idle": "2022-02-09T10:25:10.451175Z",
     "shell.execute_reply": "2022-02-09T10:25:10.450175Z",
     "shell.execute_reply.started": "2022-02-09T10:02:22.149202Z"
    },
    "papermill": {
     "duration": 60.199426,
     "end_time": "2022-02-09T10:25:10.451355",
     "exception": false,
     "start_time": "2022-02-09T10:24:10.251929",
     "status": "completed"
    },
    "tags": []
   },
   "outputs": [],
   "source": [
    "rf = RandomForestClassifier(max_depth = 4)\n",
    "rf.fit(X_train, y_train)\n",
    "rf_yhat = rf.predict(X_test)"
   ]
  },
  {
   "cell_type": "markdown",
   "id": "694b1245",
   "metadata": {
    "papermill": {
     "duration": 0.03853,
     "end_time": "2022-02-09T10:25:10.528924",
     "exception": false,
     "start_time": "2022-02-09T10:25:10.490394",
     "status": "completed"
    },
    "tags": []
   },
   "source": [
    "Check the accuracy of our Random Forest model."
   ]
  },
  {
   "cell_type": "code",
   "execution_count": 23,
   "id": "e07f7548",
   "metadata": {
    "execution": {
     "iopub.execute_input": "2022-02-09T10:25:10.611122Z",
     "iopub.status.busy": "2022-02-09T10:25:10.610149Z",
     "iopub.status.idle": "2022-02-09T10:25:10.620004Z",
     "shell.execute_reply": "2022-02-09T10:25:10.620489Z",
     "shell.execute_reply.started": "2022-02-09T10:03:39.003045Z"
    },
    "papermill": {
     "duration": 0.052536,
     "end_time": "2022-02-09T10:25:10.620677",
     "exception": false,
     "start_time": "2022-02-09T10:25:10.568141",
     "status": "completed"
    },
    "tags": []
   },
   "outputs": [
    {
     "name": "stdout",
     "output_type": "stream",
     "text": [
      "Accuracy score of the Random Forest model is 0.9991583957281328\n"
     ]
    }
   ],
   "source": [
    "print('Accuracy score of the Random Forest model is {}'.format(accuracy_score(y_test, rf_yhat)))"
   ]
  },
  {
   "cell_type": "markdown",
   "id": "4dbae008",
   "metadata": {
    "papermill": {
     "duration": 0.039009,
     "end_time": "2022-02-09T10:25:10.700092",
     "exception": false,
     "start_time": "2022-02-09T10:25:10.661083",
     "status": "completed"
    },
    "tags": []
   },
   "source": [
    "Checking F1-Score for the Random Forest model."
   ]
  },
  {
   "cell_type": "code",
   "execution_count": 24,
   "id": "1fc50e93",
   "metadata": {
    "execution": {
     "iopub.execute_input": "2022-02-09T10:25:10.782488Z",
     "iopub.status.busy": "2022-02-09T10:25:10.781863Z",
     "iopub.status.idle": "2022-02-09T10:25:10.802239Z",
     "shell.execute_reply": "2022-02-09T10:25:10.802803Z",
     "shell.execute_reply.started": "2022-02-09T10:03:39.015168Z"
    },
    "papermill": {
     "duration": 0.063222,
     "end_time": "2022-02-09T10:25:10.802985",
     "exception": false,
     "start_time": "2022-02-09T10:25:10.739763",
     "status": "completed"
    },
    "tags": []
   },
   "outputs": [
    {
     "name": "stdout",
     "output_type": "stream",
     "text": [
      "F1 score of the Random Forest model is 0.7339449541284404\n"
     ]
    }
   ],
   "source": [
    "print('F1 score of the Random Forest model is {}'.format(f1_score(y_test, rf_yhat)))"
   ]
  },
  {
   "cell_type": "markdown",
   "id": "388578db",
   "metadata": {
    "papermill": {
     "duration": 0.038803,
     "end_time": "2022-02-09T10:25:10.881163",
     "exception": false,
     "start_time": "2022-02-09T10:25:10.842360",
     "status": "completed"
    },
    "tags": []
   },
   "source": [
    "**6. XGBoost**"
   ]
  },
  {
   "cell_type": "code",
   "execution_count": 25,
   "id": "5603f6f0",
   "metadata": {
    "execution": {
     "iopub.execute_input": "2022-02-09T10:25:10.962777Z",
     "iopub.status.busy": "2022-02-09T10:25:10.961791Z",
     "iopub.status.idle": "2022-02-09T10:25:54.426707Z",
     "shell.execute_reply": "2022-02-09T10:25:54.427269Z",
     "shell.execute_reply.started": "2022-02-09T10:03:39.046456Z"
    },
    "papermill": {
     "duration": 43.507565,
     "end_time": "2022-02-09T10:25:54.427509",
     "exception": false,
     "start_time": "2022-02-09T10:25:10.919944",
     "status": "completed"
    },
    "tags": []
   },
   "outputs": [
    {
     "name": "stdout",
     "output_type": "stream",
     "text": [
      "[10:25:11] WARNING: ../src/learner.cc:1115: Starting in XGBoost 1.3.0, the default evaluation metric used with the objective 'binary:logistic' was changed from 'error' to 'logloss'. Explicitly set eval_metric if you'd like to restore the old behavior.\n"
     ]
    }
   ],
   "source": [
    "xgb = XGBClassifier(max_depth = 4)\n",
    "xgb.fit(X_train, y_train)\n",
    "xgb_yhat = xgb.predict(X_test)"
   ]
  },
  {
   "cell_type": "markdown",
   "id": "10789871",
   "metadata": {
    "papermill": {
     "duration": 0.039023,
     "end_time": "2022-02-09T10:25:54.508021",
     "exception": false,
     "start_time": "2022-02-09T10:25:54.468998",
     "status": "completed"
    },
    "tags": []
   },
   "source": [
    "Check the accuracy of our XGBoost model."
   ]
  },
  {
   "cell_type": "code",
   "execution_count": 26,
   "id": "72e7b39c",
   "metadata": {
    "execution": {
     "iopub.execute_input": "2022-02-09T10:25:54.593536Z",
     "iopub.status.busy": "2022-02-09T10:25:54.592289Z",
     "iopub.status.idle": "2022-02-09T10:25:54.599758Z",
     "shell.execute_reply": "2022-02-09T10:25:54.600227Z",
     "shell.execute_reply.started": "2022-02-09T10:04:25.725121Z"
    },
    "papermill": {
     "duration": 0.052867,
     "end_time": "2022-02-09T10:25:54.600398",
     "exception": false,
     "start_time": "2022-02-09T10:25:54.547531",
     "status": "completed"
    },
    "tags": []
   },
   "outputs": [
    {
     "name": "stdout",
     "output_type": "stream",
     "text": [
      "Accuracy score of the XGBoost model is 0.999506645771664\n"
     ]
    }
   ],
   "source": [
    "print('Accuracy score of the XGBoost model is {}'.format(accuracy_score(y_test, xgb_yhat)))"
   ]
  },
  {
   "cell_type": "markdown",
   "id": "510aae38",
   "metadata": {
    "papermill": {
     "duration": 0.039584,
     "end_time": "2022-02-09T10:25:54.680615",
     "exception": false,
     "start_time": "2022-02-09T10:25:54.641031",
     "status": "completed"
    },
    "tags": []
   },
   "source": [
    "Checking F1-Score for the XGBoost model."
   ]
  },
  {
   "cell_type": "code",
   "execution_count": 27,
   "id": "abe18792",
   "metadata": {
    "execution": {
     "iopub.execute_input": "2022-02-09T10:25:54.765187Z",
     "iopub.status.busy": "2022-02-09T10:25:54.764511Z",
     "iopub.status.idle": "2022-02-09T10:25:54.785187Z",
     "shell.execute_reply": "2022-02-09T10:25:54.784630Z",
     "shell.execute_reply.started": "2022-02-09T10:04:25.739792Z"
    },
    "papermill": {
     "duration": 0.065029,
     "end_time": "2022-02-09T10:25:54.785333",
     "exception": false,
     "start_time": "2022-02-09T10:25:54.720304",
     "status": "completed"
    },
    "tags": []
   },
   "outputs": [
    {
     "name": "stdout",
     "output_type": "stream",
     "text": [
      "F1 score of the XGBoost model is 0.8495575221238937\n"
     ]
    }
   ],
   "source": [
    "print('F1 score of the XGBoost model is {}'.format(f1_score(y_test, xgb_yhat)))"
   ]
  },
  {
   "cell_type": "markdown",
   "id": "d0eb6bff",
   "metadata": {
    "papermill": {
     "duration": 0.039991,
     "end_time": "2022-02-09T10:25:54.865923",
     "exception": false,
     "start_time": "2022-02-09T10:25:54.825932",
     "status": "completed"
    },
    "tags": []
   },
   "source": [
    "**Conclusion**\n",
    "\n",
    "Well, congratulation!! We just received 99.95% accuracy in our credit card fraud detection. This number should not be surprising as our data was balanced towards one class. The good thing that we have noticed from the confusion matrix is that — our model is not overfitted.\n",
    "Finally, based on our accuracy score — XGBoost is the winner for our case. The only catch here is the data that we have received for model training. The data features are the transformed version of PCA. If the actual features follow a similar pattern then we are doing great!!"
   ]
  }
 ],
 "metadata": {
  "kernelspec": {
   "display_name": "Python 3",
   "language": "python",
   "name": "python3"
  },
  "language_info": {
   "codemirror_mode": {
    "name": "ipython",
    "version": 3
   },
   "file_extension": ".py",
   "mimetype": "text/x-python",
   "name": "python",
   "nbconvert_exporter": "python",
   "pygments_lexer": "ipython3",
   "version": "3.7.12"
  },
  "papermill": {
   "default_parameters": {},
   "duration": 578.024497,
   "end_time": "2022-02-09T10:25:55.718510",
   "environment_variables": {},
   "exception": null,
   "input_path": "__notebook__.ipynb",
   "output_path": "__notebook__.ipynb",
   "parameters": {},
   "start_time": "2022-02-09T10:16:17.694013",
   "version": "2.3.3"
  }
 },
 "nbformat": 4,
 "nbformat_minor": 5
}
